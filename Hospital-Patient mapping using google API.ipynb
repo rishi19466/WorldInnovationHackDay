{
 "cells": [
  {
   "cell_type": "markdown",
   "metadata": {},
   "source": [
    "# Locating the hospitals and patients using Google Map"
   ]
  },
  {
   "cell_type": "markdown",
   "metadata": {},
   "source": [
    "## Libraries "
   ]
  },
  {
   "cell_type": "markdown",
   "metadata": {},
   "source": [
    "Importing libraries that need to be used for the mapping process"
   ]
  },
  {
   "cell_type": "code",
   "execution_count": 1,
   "metadata": {},
   "outputs": [],
   "source": [
    "import gmaps\n",
    "gmaps.configure(api_key='AI.......................') #Input your Google API key\n",
    "import pandas as pd\n",
    "import numpy as np"
   ]
  },
  {
   "cell_type": "markdown",
   "metadata": {},
   "source": [
    "## Hospital Data"
   ]
  },
  {
   "cell_type": "code",
   "execution_count": 2,
   "metadata": {},
   "outputs": [],
   "source": [
    "hospital_location_df = pd.read_excel (r'Hospital Location.xlsx',header = 0)"
   ]
  },
  {
   "cell_type": "code",
   "execution_count": 3,
   "metadata": {},
   "outputs": [
    {
     "data": {
      "text/html": [
       "<div>\n",
       "<style scoped>\n",
       "    .dataframe tbody tr th:only-of-type {\n",
       "        vertical-align: middle;\n",
       "    }\n",
       "\n",
       "    .dataframe tbody tr th {\n",
       "        vertical-align: top;\n",
       "    }\n",
       "\n",
       "    .dataframe thead th {\n",
       "        text-align: right;\n",
       "    }\n",
       "</style>\n",
       "<table border=\"1\" class=\"dataframe\">\n",
       "  <thead>\n",
       "    <tr style=\"text-align: right;\">\n",
       "      <th></th>\n",
       "      <th>Hospital</th>\n",
       "      <th>Latitude</th>\n",
       "      <th>Longtitude</th>\n",
       "      <th>Weight</th>\n",
       "    </tr>\n",
       "  </thead>\n",
       "  <tbody>\n",
       "    <tr>\n",
       "      <th>0</th>\n",
       "      <td>Tua Chua General Hospital</td>\n",
       "      <td>21.871237</td>\n",
       "      <td>103.350815</td>\n",
       "      <td>3</td>\n",
       "    </tr>\n",
       "    <tr>\n",
       "      <th>1</th>\n",
       "      <td>Tuan Giao General Hospital</td>\n",
       "      <td>21.591240</td>\n",
       "      <td>103.418112</td>\n",
       "      <td>3</td>\n",
       "    </tr>\n",
       "    <tr>\n",
       "      <th>2</th>\n",
       "      <td>Toa Tinh Medical Center</td>\n",
       "      <td>21.598714</td>\n",
       "      <td>103.488772</td>\n",
       "      <td>3</td>\n",
       "    </tr>\n",
       "    <tr>\n",
       "      <th>3</th>\n",
       "      <td>Muong Cha Town Hospital</td>\n",
       "      <td>21.769916</td>\n",
       "      <td>103.086007</td>\n",
       "      <td>3</td>\n",
       "    </tr>\n",
       "    <tr>\n",
       "      <th>4</th>\n",
       "      <td>Dien Bien Province General Hospital</td>\n",
       "      <td>21.393345</td>\n",
       "      <td>103.032214</td>\n",
       "      <td>3</td>\n",
       "    </tr>\n",
       "  </tbody>\n",
       "</table>\n",
       "</div>"
      ],
      "text/plain": [
       "                              Hospital   Latitude  Longtitude  Weight\n",
       "0            Tua Chua General Hospital  21.871237  103.350815       3\n",
       "1           Tuan Giao General Hospital  21.591240  103.418112       3\n",
       "2              Toa Tinh Medical Center  21.598714  103.488772       3\n",
       "3              Muong Cha Town Hospital  21.769916  103.086007       3\n",
       "4  Dien Bien Province General Hospital  21.393345  103.032214       3"
      ]
     },
     "execution_count": 3,
     "metadata": {},
     "output_type": "execute_result"
    }
   ],
   "source": [
    "hospital_location_df.head()"
   ]
  },
  {
   "cell_type": "code",
   "execution_count": 4,
   "metadata": {},
   "outputs": [],
   "source": [
    "hospital_location_df['Lontitude'] = hospital_location_df['Longtitude'].astype(float)\n",
    "hospital_location_df['Latitude'] = hospital_location_df['Latitude'].astype(float)\n",
    "\n",
    "list_of_Longtitude = hospital_location_df['Longtitude'].to_list()\n",
    "list_of_Latitude = hospital_location_df['Latitude'].to_list()\n",
    "list_of_Hospital_names = hospital_location_df['Hospital'].to_list()\n",
    "\n"
   ]
  },
  {
   "cell_type": "markdown",
   "metadata": {},
   "source": [
    "Create a dictionary to store all the coordinate of the hospitals "
   ]
  },
  {
   "cell_type": "code",
   "execution_count": 5,
   "metadata": {},
   "outputs": [
    {
     "name": "stdout",
     "output_type": "stream",
     "text": [
      "{'Tua Chua General Hospital': (21.8712371387298, 103.350815068684), 'Tuan Giao General Hospital': (21.5912401394336, 103.418111767911), 'Toa Tinh Medical Center': (21.5987135522259, 103.488772425379), 'Muong Cha Town Hospital': (21.7699157951481, 103.086007220575), 'Dien Bien Province General Hospital': (21.3933453878018, 103.032214359475), 'Muong Thanh Medical Center': (21.3887978773359, 103.014944027671), 'Nam Thanh Medical Center': (21.3730541626201, 103.014410112152), 'Dien Bien Province 2nd General Hospital': (21.3847378182546, 103.023130732299), 'Thanh Nua Medical Center': (21.4279391891271, 103.004979605397), 'Binh An General Practictioner': (21.3871063853347, 103.024603052922), 'Chan Nua Medical Center ': (22.231765465961, 103.159807340965), 'Phong Lai Commune Medical Station': (21.5563207894461, 103.62531117502), 'E Tong Commune Medical Station': (21.4854167339489, 103.523687634593), 'Quai  Cang Medical Center': (21.6187320021987, 103.433502081609), 'Tuan Giao Medical Center': (21.5994416194879, 103.424511005104), 'Muong Lay Medical Center': (22.0786751034269, 103.158069469388), 'Huoi Leng Medical Center': (21.8873292229616, 103.133307637675), 'Thanh Hung Medical Center': (21.3823626731219, 102.98140674332), 'Thanh Chan Medical Center': (21.364379737535, 102.980764607643), 'Dien Bien Dong Medical Center': (21.3041108110646, 103.221786108318), 'Muong Ang Medical Center': (21.5315471932818, 103.21852363373), 'Muong Cha Hospital': (21.7595784046093, 103.093681814742), 'Nam Ke Medical Center': (22.1390689931205, 102.582682805207), 'Quang Lam Medical Center': (22.0729532677319, 102.633307696259)}\n"
     ]
    }
   ],
   "source": [
    "hospital_locations = {}\n",
    "for name, latitude, longitude in zip(list_of_Hospital_names, list_of_Latitude, list_of_Longtitude):\n",
    "   hospital_locations[name] = latitude, longitude\n",
    "print(hospital_locations)"
   ]
  },
  {
   "cell_type": "markdown",
   "metadata": {},
   "source": [
    "## Patient Data"
   ]
  },
  {
   "cell_type": "markdown",
   "metadata": {},
   "source": [
    "In the future, when more data of the patient is available it will be included in the \"Patient Status.csv\" Excel file"
   ]
  },
  {
   "cell_type": "code",
   "execution_count": 6,
   "metadata": {},
   "outputs": [],
   "source": [
    "patient_df = pd.read_csv('Patient Status.csv') \n",
    "# This is just a dummy data set \n"
   ]
  },
  {
   "cell_type": "code",
   "execution_count": 7,
   "metadata": {},
   "outputs": [
    {
     "data": {
      "text/html": [
       "<div>\n",
       "<style scoped>\n",
       "    .dataframe tbody tr th:only-of-type {\n",
       "        vertical-align: middle;\n",
       "    }\n",
       "\n",
       "    .dataframe tbody tr th {\n",
       "        vertical-align: top;\n",
       "    }\n",
       "\n",
       "    .dataframe thead th {\n",
       "        text-align: right;\n",
       "    }\n",
       "</style>\n",
       "<table border=\"1\" class=\"dataframe\">\n",
       "  <thead>\n",
       "    <tr style=\"text-align: right;\">\n",
       "      <th></th>\n",
       "      <th>Lat</th>\n",
       "      <th>Long</th>\n",
       "      <th>Address</th>\n",
       "    </tr>\n",
       "  </thead>\n",
       "  <tbody>\n",
       "    <tr>\n",
       "      <th>0</th>\n",
       "      <td>21.928026</td>\n",
       "      <td>103.344510</td>\n",
       "      <td>Tủa Chùa, Tỉnh Điện Biên, Việt Nam</td>\n",
       "    </tr>\n",
       "    <tr>\n",
       "      <th>1</th>\n",
       "      <td>21.919475</td>\n",
       "      <td>103.349370</td>\n",
       "      <td>Tủa Chùa, Tỉnh Điện Biên, Việt Nam</td>\n",
       "    </tr>\n",
       "    <tr>\n",
       "      <th>2</th>\n",
       "      <td>21.874095</td>\n",
       "      <td>103.371030</td>\n",
       "      <td>Tủa Chùa, Tỉnh Điện Biên, Việt Nam</td>\n",
       "    </tr>\n",
       "    <tr>\n",
       "      <th>3</th>\n",
       "      <td>21.929420</td>\n",
       "      <td>103.394012</td>\n",
       "      <td>Tủa Chùa, Tỉnh Điện Biên, Việt Nam</td>\n",
       "    </tr>\n",
       "    <tr>\n",
       "      <th>4</th>\n",
       "      <td>21.879655</td>\n",
       "      <td>103.362571</td>\n",
       "      <td>Tủa Chùa, Tỉnh Điện Biên, Việt Nam</td>\n",
       "    </tr>\n",
       "  </tbody>\n",
       "</table>\n",
       "</div>"
      ],
      "text/plain": [
       "         Lat        Long                             Address\n",
       "0  21.928026  103.344510  Tủa Chùa, Tỉnh Điện Biên, Việt Nam\n",
       "1  21.919475  103.349370  Tủa Chùa, Tỉnh Điện Biên, Việt Nam\n",
       "2  21.874095  103.371030  Tủa Chùa, Tỉnh Điện Biên, Việt Nam\n",
       "3  21.929420  103.394012  Tủa Chùa, Tỉnh Điện Biên, Việt Nam\n",
       "4  21.879655  103.362571  Tủa Chùa, Tỉnh Điện Biên, Việt Nam"
      ]
     },
     "execution_count": 7,
     "metadata": {},
     "output_type": "execute_result"
    }
   ],
   "source": [
    "patient_df.head()"
   ]
  },
  {
   "cell_type": "code",
   "execution_count": 8,
   "metadata": {},
   "outputs": [],
   "source": [
    "patient_long = patient_df['Long'].to_list()\n",
    "patient_lat = patient_df['Lat'].to_list()\n"
   ]
  },
  {
   "cell_type": "code",
   "execution_count": 9,
   "metadata": {},
   "outputs": [],
   "source": [
    "patient_locations = []\n",
    "for lat, long in zip(patient_lat,patient_long):\n",
    "    patient_locations.append((lat, long))\n"
   ]
  },
  {
   "cell_type": "markdown",
   "metadata": {},
   "source": [
    "## Map Presenting"
   ]
  },
  {
   "cell_type": "code",
   "execution_count": 10,
   "metadata": {},
   "outputs": [
    {
     "data": {
      "application/vnd.jupyter.widget-view+json": {
       "model_id": "a3139cbe64d745e5b73ac9ac303641eb",
       "version_major": 2,
       "version_minor": 0
      },
      "text/plain": [
       "Figure(layout=FigureLayout(height='420px'))"
      ]
     },
     "metadata": {},
     "output_type": "display_data"
    }
   ],
   "source": [
    "# Locating the Provinct on the map\n",
    "Dien_Bien_coordinates = (21.7210126,103.0410819)\n",
    "fig = gmaps.figure(center= Dien_Bien_coordinates, zoom_level=10,map_type='HYBRID')\n",
    "\n",
    "\n",
    "# Creating a Layer for the Hospital Location\n",
    "hospital_layer = gmaps.heatmap_layer(hospital_locations.values(), weights = hospital_location_df['Weight'])\n",
    "hospital_layer.max_intensity = 2\n",
    "hospital_layer.point_radius = 10\n",
    "\n",
    "# Plotting the map\n",
    "fig = gmaps.figure()\n",
    "fig.add_layer(hospital_layer)\n",
    "fig"
   ]
  },
  {
   "cell_type": "code",
   "execution_count": 11,
   "metadata": {},
   "outputs": [
    {
     "data": {
      "application/vnd.jupyter.widget-view+json": {
       "model_id": "7f4dee5fa7eb4e0f9320d52ce38c93e5",
       "version_major": 2,
       "version_minor": 0
      },
      "text/plain": [
       "Figure(layout=FigureLayout(height='420px'))"
      ]
     },
     "metadata": {},
     "output_type": "display_data"
    }
   ],
   "source": [
    "Dien_Bien_coordinates = (21.7210126,103.0410819)\n",
    "fig = gmaps.figure(center= Dien_Bien_coordinates, zoom_level=10,map_type='HYBRID')\n",
    "\n",
    "\n",
    "# Creating a layer for the Patient Location\n",
    "patient_layer = gmaps.symbol_layer(patient_locations,  fill_color='red', stroke_color='red', scale=1)\n",
    "\n",
    "# Plotting the map\n",
    "fig = gmaps.figure()\n",
    "fig.add_layer(patient_layer) \n",
    "fig"
   ]
  }
 ],
 "metadata": {
  "kernelspec": {
   "display_name": "Python 3",
   "language": "python",
   "name": "python3"
  },
  "language_info": {
   "codemirror_mode": {
    "name": "ipython",
    "version": 3
   },
   "file_extension": ".py",
   "mimetype": "text/x-python",
   "name": "python",
   "nbconvert_exporter": "python",
   "pygments_lexer": "ipython3",
   "version": "3.8.3"
  }
 },
 "nbformat": 4,
 "nbformat_minor": 4
}
